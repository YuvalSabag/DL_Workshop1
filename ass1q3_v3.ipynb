{
 "cells": [
  {
   "cell_type": "markdown",
   "id": "e9e3ba7c",
   "metadata": {},
   "source": [
    "# Deep Learning Workshop - Assignment 1, Question 3"
   ]
  },
  {
   "cell_type": "markdown",
   "id": "af7633c9",
   "metadata": {},
   "source": [
    "## Installations and imports"
   ]
  },
  {
   "cell_type": "code",
   "execution_count": 1,
   "id": "e06e8a60",
   "metadata": {
    "colab": {
     "base_uri": "https://localhost:8080/"
    },
    "execution": {
     "iopub.execute_input": "2024-02-07T13:42:01.422232Z",
     "iopub.status.busy": "2024-02-07T13:42:01.421887Z",
     "iopub.status.idle": "2024-02-07T13:42:17.763058Z",
     "shell.execute_reply": "2024-02-07T13:42:17.762142Z",
     "shell.execute_reply.started": "2024-02-07T13:42:01.422202Z"
    },
    "id": "lEHIw1vB8q3f",
    "outputId": "76d4fea1-5f06-4cca-d5f9-90df37089400"
   },
   "outputs": [
    {
     "name": "stdout",
     "output_type": "stream",
     "text": [
      "Collecting lightning\n",
      "  Downloading lightning-2.1.4-py3-none-any.whl.metadata (57 kB)\n",
      "\u001b[2K     \u001b[90m━━━━━━━━━━━━━━━━━━━━━━━━━━━━━━━━━━━━━━━━\u001b[0m \u001b[32m57.2/57.2 kB\u001b[0m \u001b[31m2.0 MB/s\u001b[0m eta \u001b[36m0:00:00\u001b[0m\n",
      "\u001b[?25hRequirement already satisfied: PyYAML<8.0,>=5.4 in /opt/conda/lib/python3.10/site-packages (from lightning) (6.0.1)\n",
      "Requirement already satisfied: fsspec<2025.0,>=2022.5.0 in /opt/conda/lib/python3.10/site-packages (from fsspec[http]<2025.0,>=2022.5.0->lightning) (2023.12.2)\n",
      "Requirement already satisfied: lightning-utilities<2.0,>=0.8.0 in /opt/conda/lib/python3.10/site-packages (from lightning) (0.10.1)\n",
      "Requirement already satisfied: numpy<3.0,>=1.17.2 in /opt/conda/lib/python3.10/site-packages (from lightning) (1.24.4)\n",
      "Requirement already satisfied: packaging<25.0,>=20.0 in /opt/conda/lib/python3.10/site-packages (from lightning) (21.3)\n",
      "Requirement already satisfied: torch<4.0,>=1.12.0 in /opt/conda/lib/python3.10/site-packages (from lightning) (2.1.2)\n",
      "Requirement already satisfied: torchmetrics<3.0,>=0.7.0 in /opt/conda/lib/python3.10/site-packages (from lightning) (1.3.0.post0)\n",
      "Requirement already satisfied: tqdm<6.0,>=4.57.0 in /opt/conda/lib/python3.10/site-packages (from lightning) (4.66.1)\n",
      "Requirement already satisfied: typing-extensions<6.0,>=4.0.0 in /opt/conda/lib/python3.10/site-packages (from lightning) (4.9.0)\n",
      "Requirement already satisfied: pytorch-lightning in /opt/conda/lib/python3.10/site-packages (from lightning) (2.1.3)\n",
      "Requirement already satisfied: requests in /opt/conda/lib/python3.10/site-packages (from fsspec[http]<2025.0,>=2022.5.0->lightning) (2.31.0)\n",
      "Requirement already satisfied: aiohttp!=4.0.0a0,!=4.0.0a1 in /opt/conda/lib/python3.10/site-packages (from fsspec[http]<2025.0,>=2022.5.0->lightning) (3.9.1)\n",
      "Requirement already satisfied: setuptools in /opt/conda/lib/python3.10/site-packages (from lightning-utilities<2.0,>=0.8.0->lightning) (69.0.3)\n",
      "Requirement already satisfied: pyparsing!=3.0.5,>=2.0.2 in /opt/conda/lib/python3.10/site-packages (from packaging<25.0,>=20.0->lightning) (3.1.1)\n",
      "Requirement already satisfied: filelock in /opt/conda/lib/python3.10/site-packages (from torch<4.0,>=1.12.0->lightning) (3.13.1)\n",
      "Requirement already satisfied: sympy in /opt/conda/lib/python3.10/site-packages (from torch<4.0,>=1.12.0->lightning) (1.12)\n",
      "Requirement already satisfied: networkx in /opt/conda/lib/python3.10/site-packages (from torch<4.0,>=1.12.0->lightning) (3.2.1)\n",
      "Requirement already satisfied: jinja2 in /opt/conda/lib/python3.10/site-packages (from torch<4.0,>=1.12.0->lightning) (3.1.2)\n",
      "Requirement already satisfied: attrs>=17.3.0 in /opt/conda/lib/python3.10/site-packages (from aiohttp!=4.0.0a0,!=4.0.0a1->fsspec[http]<2025.0,>=2022.5.0->lightning) (23.2.0)\n",
      "Requirement already satisfied: multidict<7.0,>=4.5 in /opt/conda/lib/python3.10/site-packages (from aiohttp!=4.0.0a0,!=4.0.0a1->fsspec[http]<2025.0,>=2022.5.0->lightning) (6.0.4)\n",
      "Requirement already satisfied: yarl<2.0,>=1.0 in /opt/conda/lib/python3.10/site-packages (from aiohttp!=4.0.0a0,!=4.0.0a1->fsspec[http]<2025.0,>=2022.5.0->lightning) (1.9.3)\n",
      "Requirement already satisfied: frozenlist>=1.1.1 in /opt/conda/lib/python3.10/site-packages (from aiohttp!=4.0.0a0,!=4.0.0a1->fsspec[http]<2025.0,>=2022.5.0->lightning) (1.4.1)\n",
      "Requirement already satisfied: aiosignal>=1.1.2 in /opt/conda/lib/python3.10/site-packages (from aiohttp!=4.0.0a0,!=4.0.0a1->fsspec[http]<2025.0,>=2022.5.0->lightning) (1.3.1)\n",
      "Requirement already satisfied: async-timeout<5.0,>=4.0 in /opt/conda/lib/python3.10/site-packages (from aiohttp!=4.0.0a0,!=4.0.0a1->fsspec[http]<2025.0,>=2022.5.0->lightning) (4.0.3)\n",
      "Requirement already satisfied: MarkupSafe>=2.0 in /opt/conda/lib/python3.10/site-packages (from jinja2->torch<4.0,>=1.12.0->lightning) (2.1.3)\n",
      "Requirement already satisfied: charset-normalizer<4,>=2 in /opt/conda/lib/python3.10/site-packages (from requests->fsspec[http]<2025.0,>=2022.5.0->lightning) (3.3.2)\n",
      "Requirement already satisfied: idna<4,>=2.5 in /opt/conda/lib/python3.10/site-packages (from requests->fsspec[http]<2025.0,>=2022.5.0->lightning) (3.6)\n",
      "Requirement already satisfied: urllib3<3,>=1.21.1 in /opt/conda/lib/python3.10/site-packages (from requests->fsspec[http]<2025.0,>=2022.5.0->lightning) (1.26.18)\n",
      "Requirement already satisfied: certifi>=2017.4.17 in /opt/conda/lib/python3.10/site-packages (from requests->fsspec[http]<2025.0,>=2022.5.0->lightning) (2023.11.17)\n",
      "Requirement already satisfied: mpmath>=0.19 in /opt/conda/lib/python3.10/site-packages (from sympy->torch<4.0,>=1.12.0->lightning) (1.3.0)\n",
      "Downloading lightning-2.1.4-py3-none-any.whl (2.0 MB)\n",
      "\u001b[2K   \u001b[90m━━━━━━━━━━━━━━━━━━━━━━━━━━━━━━━━━━━━━━━━\u001b[0m \u001b[32m2.0/2.0 MB\u001b[0m \u001b[31m33.8 MB/s\u001b[0m eta \u001b[36m0:00:00\u001b[0ma \u001b[36m0:00:01\u001b[0m\n",
      "\u001b[?25hInstalling collected packages: lightning\n",
      "Successfully installed lightning-2.1.4\n"
     ]
    }
   ],
   "source": [
    "!pip install lightning"
   ]
  },
  {
   "cell_type": "code",
   "execution_count": 2,
   "id": "1249a167",
   "metadata": {
    "ExecuteTime": {
     "end_time": "2024-02-03T15:54:37.012594Z",
     "start_time": "2024-02-03T15:54:36.432684Z"
    },
    "execution": {
     "iopub.execute_input": "2024-02-07T13:42:17.765111Z",
     "iopub.status.busy": "2024-02-07T13:42:17.764804Z",
     "iopub.status.idle": "2024-02-07T13:42:27.109991Z",
     "shell.execute_reply": "2024-02-07T13:42:27.108997Z",
     "shell.execute_reply.started": "2024-02-07T13:42:17.765082Z"
    },
    "id": "initial_id"
   },
   "outputs": [],
   "source": [
    "import os\n",
    "import time\n",
    "import torch\n",
    "import torchvision\n",
    "import lightning as L\n",
    "from torch import optim, nn\n",
    "from torch.utils.data import DataLoader\n",
    "from torchvision import models, transforms\n",
    "from torchvision.datasets import ImageFolder\n",
    "from tqdm import tqdm\n",
    "from lightning.pytorch.callbacks import LearningRateMonitor, ModelCheckpoint, EarlyStopping\n",
    "from lightning.pytorch.loggers import TensorBoardLogger\n",
    "from sklearn.linear_model import LogisticRegression\n",
    "from sklearn.metrics import accuracy_score\n",
    "device = torch.device('cuda:0') if torch.cuda.is_available() else torch.device('cpu')\n",
    "os.environ['CUDA_LAUNCH_BLOCKING'] = \"1\""
   ]
  },
  {
   "cell_type": "markdown",
   "id": "4c0a2a51",
   "metadata": {},
   "source": [
    "## Constants"
   ]
  },
  {
   "cell_type": "code",
   "execution_count": 3,
   "id": "b971409b",
   "metadata": {
    "ExecuteTime": {
     "end_time": "2024-02-03T17:05:24.626001Z",
     "start_time": "2024-02-03T17:05:24.619022Z"
    },
    "execution": {
     "iopub.execute_input": "2024-02-07T13:42:27.112451Z",
     "iopub.status.busy": "2024-02-07T13:42:27.111453Z",
     "iopub.status.idle": "2024-02-07T13:42:27.117354Z",
     "shell.execute_reply": "2024-02-07T13:42:27.116453Z",
     "shell.execute_reply.started": "2024-02-07T13:42:27.112413Z"
    },
    "id": "69a62521a018a809"
   },
   "outputs": [],
   "source": [
    "BATCH_SIZE = 64\n",
    "TRAIN = 'train'\n",
    "TEST = 'test'\n",
    "VALID = 'valid'\n",
    "BASE_FOLDER = '/kaggle/input/100-bird-species'"
   ]
  },
  {
   "cell_type": "markdown",
   "id": "741a060d",
   "metadata": {},
   "source": [
    "## Define Transforms"
   ]
  },
  {
   "cell_type": "code",
   "execution_count": 4,
   "id": "6ea4ccaf",
   "metadata": {
    "ExecuteTime": {
     "end_time": "2024-02-03T17:05:25.696786Z",
     "start_time": "2024-02-03T17:05:25.614284Z"
    },
    "execution": {
     "iopub.execute_input": "2024-02-07T13:42:27.120398Z",
     "iopub.status.busy": "2024-02-07T13:42:27.120056Z",
     "iopub.status.idle": "2024-02-07T13:42:27.129553Z",
     "shell.execute_reply": "2024-02-07T13:42:27.128690Z",
     "shell.execute_reply.started": "2024-02-07T13:42:27.120366Z"
    },
    "id": "16e364c19fbae7f0"
   },
   "outputs": [],
   "source": [
    "# Define transforms for train and test sets, according to ImageNet statistics\n",
    "train_means = [0.485, 0.456, 0.406]\n",
    "train_stds = [0.229, 0.224, 0.225]\n",
    "train_transform = transforms.Compose([\n",
    "    transforms.Resize((224, 224)),\n",
    "    transforms.RandomHorizontalFlip(),\n",
    "    transforms.RandomRotation(10),\n",
    "    transforms.ToTensor(),\n",
    "    transforms.Normalize(mean=train_means, std=train_stds)\n",
    "])\n",
    "\n",
    "test_transform = transforms.Compose([\n",
    "    transforms.Resize((224, 224)),\n",
    "    transforms.ToTensor(),\n",
    "    transforms.Normalize(mean=train_means, std=train_stds)\n",
    "])"
   ]
  },
  {
   "cell_type": "markdown",
   "id": "8f9097ad",
   "metadata": {},
   "source": [
    "## Load data into Datasets using ImageFolder"
   ]
  },
  {
   "cell_type": "code",
   "execution_count": 5,
   "id": "a3f641f5",
   "metadata": {
    "execution": {
     "iopub.execute_input": "2024-02-07T13:42:27.131140Z",
     "iopub.status.busy": "2024-02-07T13:42:27.130676Z",
     "iopub.status.idle": "2024-02-07T13:42:57.227078Z",
     "shell.execute_reply": "2024-02-07T13:42:57.226118Z",
     "shell.execute_reply.started": "2024-02-07T13:42:27.131113Z"
    },
    "id": "8032f14e16574847"
   },
   "outputs": [],
   "source": [
    "train_dataset = ImageFolder(root=f'{BASE_FOLDER}/{TRAIN}', transform=train_transform)\n",
    "test_dataset = ImageFolder(root=f'{BASE_FOLDER}/{TEST}', transform=test_transform)\n",
    "valid_dataset = ImageFolder(root=f'{BASE_FOLDER}/{VALID}', transform=test_transform)"
   ]
  },
  {
   "cell_type": "markdown",
   "id": "78c42485",
   "metadata": {},
   "source": [
    "## Create DataLoaders"
   ]
  },
  {
   "cell_type": "code",
   "execution_count": 6,
   "id": "1d2eff06",
   "metadata": {
    "ExecuteTime": {
     "end_time": "2024-02-03T16:09:44.119199Z",
     "start_time": "2024-02-03T16:09:44.032209Z"
    },
    "execution": {
     "iopub.execute_input": "2024-02-07T13:42:57.228713Z",
     "iopub.status.busy": "2024-02-07T13:42:57.228339Z",
     "iopub.status.idle": "2024-02-07T13:42:57.234483Z",
     "shell.execute_reply": "2024-02-07T13:42:57.233574Z",
     "shell.execute_reply.started": "2024-02-07T13:42:57.228678Z"
    },
    "id": "996d237206992562"
   },
   "outputs": [],
   "source": [
    "train_loader = DataLoader(train_dataset, batch_size=BATCH_SIZE, shuffle=True, num_workers=3)\n",
    "test_loader = DataLoader(test_dataset, batch_size=BATCH_SIZE, shuffle=False, num_workers=3)\n",
    "val_loader = DataLoader(valid_dataset, batch_size=BATCH_SIZE, shuffle=False, num_workers=3)"
   ]
  },
  {
   "cell_type": "markdown",
   "id": "39b82a21",
   "metadata": {},
   "source": [
    "# Sections A, B & C"
   ]
  },
  {
   "cell_type": "markdown",
   "id": "9a6bebfb",
   "metadata": {},
   "source": [
    "## Define BackBoneModule - A generic Module for all pretrained modules"
   ]
  },
  {
   "cell_type": "code",
   "execution_count": 7,
   "id": "ab3384a5",
   "metadata": {
    "ExecuteTime": {
     "end_time": "2024-02-03T16:09:46.241134Z",
     "start_time": "2024-02-03T16:09:46.125147Z"
    },
    "execution": {
     "iopub.execute_input": "2024-02-07T13:42:57.236524Z",
     "iopub.status.busy": "2024-02-07T13:42:57.235896Z",
     "iopub.status.idle": "2024-02-07T13:42:57.250538Z",
     "shell.execute_reply": "2024-02-07T13:42:57.249832Z",
     "shell.execute_reply.started": "2024-02-07T13:42:57.236491Z"
    },
    "id": "a4893efe25f1f5b1"
   },
   "outputs": [],
   "source": [
    "class BackBoneModule(L.LightningModule):\n",
    "  def __init__(self, backbone_module, num_classes: int):\n",
    "    super().__init__()\n",
    "    self.num_classes = num_classes\n",
    "    self.criterion = nn.CrossEntropyLoss()\n",
    "    self.backbone_module = backbone_module\n",
    "    self._update_last_layer(num_classes) \n",
    "        \n",
    "  def _update_last_layer(self, num_classes: int):\n",
    "        if hasattr(self.backbone_module, 'classifier'):\n",
    "            if isinstance(self.backbone_module.classifier, nn.Sequential):\n",
    "                num_features = self.backbone_module.classifier[-1].in_features\n",
    "                self.backbone_module.classifier[-1] = nn.Linear(num_features, num_classes)\n",
    "            else:\n",
    "                num_features = self.backbone_module.classifier.in_features\n",
    "                self.backbone_module.classifier = nn.Linear(num_features, num_classes)\n",
    "        elif hasattr(self.backbone_module, 'fc'):\n",
    "            num_features = self.backbone_module.fc.in_features\n",
    "            self.backbone_module.fc = nn.Linear(num_features, num_classes)\n",
    "\n",
    "  def forward(self, x):\n",
    "      return self.backbone_module(x)\n",
    "\n",
    "  def training_step(self, batch, batch_idx):\n",
    "      x, y = batch\n",
    "      y_hat = self.forward(x)\n",
    "      loss = self.criterion(y_hat, y)\n",
    "      self.log(\"train_loss\", loss)\n",
    "      acc = (y_hat.argmax(dim=1) == y).float().mean()\n",
    "      self.log('train_accuracy', acc, on_step=True, on_epoch=False, prog_bar=True)\n",
    "      return loss\n",
    "\n",
    "  def validation_step(self, batch, batch_idx):\n",
    "      x, y = batch\n",
    "      y_hat = self.forward(x)\n",
    "      loss = self.criterion(y_hat, y)\n",
    "      acc = (y_hat.argmax(dim=1) == y).float().mean()\n",
    "      self.log_dict({\"val_loss\": loss, \"val_accuracy\": acc}, on_step=False, on_epoch=True)\n",
    "\n",
    "  def test_step(self, batch, batch_idx):\n",
    "      x, y = batch\n",
    "      y_hat = self.forward(x)\n",
    "      loss = self.criterion(y_hat, y)\n",
    "      acc = (y_hat.argmax(dim=1) == y).float().mean()\n",
    "      self.log_dict({\"test_loss\": loss, \"test_accuracy\": acc}, on_step=False, on_epoch=True)\n",
    "\n",
    "  def configure_optimizers(self):\n",
    "      optimizer = torch.optim.Adam(self.backbone_module.parameters(), lr=1e-4)\n",
    "      return optimizer\n"
   ]
  },
  {
   "cell_type": "markdown",
   "id": "a8620cb5",
   "metadata": {},
   "source": [
    "## Load pretrained models - MobileNet, GoogleNet, ResNet50 & VGG19"
   ]
  },
  {
   "cell_type": "code",
   "execution_count": 8,
   "id": "b2a8af5c",
   "metadata": {
    "ExecuteTime": {
     "end_time": "2024-02-03T16:10:23.028400Z",
     "start_time": "2024-02-03T16:10:06.053352Z"
    },
    "colab": {
     "base_uri": "https://localhost:8080/"
    },
    "execution": {
     "iopub.execute_input": "2024-02-07T13:42:57.251773Z",
     "iopub.status.busy": "2024-02-07T13:42:57.251475Z",
     "iopub.status.idle": "2024-02-07T13:43:07.434606Z",
     "shell.execute_reply": "2024-02-07T13:43:07.433767Z",
     "shell.execute_reply.started": "2024-02-07T13:42:57.251750Z"
    },
    "id": "a2eb80c3947c1b4",
    "outputId": "f70a7b0b-20f8-400c-b0da-4739c373b092"
   },
   "outputs": [
    {
     "name": "stderr",
     "output_type": "stream",
     "text": [
      "/opt/conda/lib/python3.10/site-packages/torchvision/models/_utils.py:208: UserWarning: The parameter 'pretrained' is deprecated since 0.13 and may be removed in the future, please use 'weights' instead.\n",
      "  warnings.warn(\n",
      "/opt/conda/lib/python3.10/site-packages/torchvision/models/_utils.py:223: UserWarning: Arguments other than a weight enum or `None` for 'weights' are deprecated since 0.13 and may be removed in the future. The current behavior is equivalent to passing `weights=MobileNet_V2_Weights.IMAGENET1K_V1`. You can also use `weights=MobileNet_V2_Weights.DEFAULT` to get the most up-to-date weights.\n",
      "  warnings.warn(msg)\n",
      "Downloading: \"https://download.pytorch.org/models/mobilenet_v2-b0353104.pth\" to /root/.cache/torch/hub/checkpoints/mobilenet_v2-b0353104.pth\n",
      "100%|██████████| 13.6M/13.6M [00:00<00:00, 73.0MB/s]\n",
      "/opt/conda/lib/python3.10/site-packages/torchvision/models/_utils.py:223: UserWarning: Arguments other than a weight enum or `None` for 'weights' are deprecated since 0.13 and may be removed in the future. The current behavior is equivalent to passing `weights=GoogLeNet_Weights.IMAGENET1K_V1`. You can also use `weights=GoogLeNet_Weights.DEFAULT` to get the most up-to-date weights.\n",
      "  warnings.warn(msg)\n",
      "Downloading: \"https://download.pytorch.org/models/googlenet-1378be20.pth\" to /root/.cache/torch/hub/checkpoints/googlenet-1378be20.pth\n",
      "100%|██████████| 49.7M/49.7M [00:00<00:00, 83.7MB/s]\n",
      "/opt/conda/lib/python3.10/site-packages/torchvision/models/_utils.py:223: UserWarning: Arguments other than a weight enum or `None` for 'weights' are deprecated since 0.13 and may be removed in the future. The current behavior is equivalent to passing `weights=ResNet50_Weights.IMAGENET1K_V1`. You can also use `weights=ResNet50_Weights.DEFAULT` to get the most up-to-date weights.\n",
      "  warnings.warn(msg)\n",
      "Downloading: \"https://download.pytorch.org/models/resnet50-0676ba61.pth\" to /root/.cache/torch/hub/checkpoints/resnet50-0676ba61.pth\n",
      "100%|██████████| 97.8M/97.8M [00:00<00:00, 153MB/s] \n",
      "/opt/conda/lib/python3.10/site-packages/torchvision/models/_utils.py:223: UserWarning: Arguments other than a weight enum or `None` for 'weights' are deprecated since 0.13 and may be removed in the future. The current behavior is equivalent to passing `weights=VGG19_Weights.IMAGENET1K_V1`. You can also use `weights=VGG19_Weights.DEFAULT` to get the most up-to-date weights.\n",
      "  warnings.warn(msg)\n",
      "Downloading: \"https://download.pytorch.org/models/vgg19-dcbb9e9d.pth\" to /root/.cache/torch/hub/checkpoints/vgg19-dcbb9e9d.pth\n",
      "100%|██████████| 548M/548M [00:05<00:00, 98.8MB/s] \n"
     ]
    }
   ],
   "source": [
    "pretrained_models = {\n",
    "    'mobilenet': models.mobilenet_v2(pretrained=True),\n",
    "    'googlenet': models.googlenet(pretrained=True),\n",
    "    'resnet50': models.resnet50(pretrained=True),\n",
    "    'vgg19': models.vgg19(pretrained=True)\n",
    "}"
   ]
  },
  {
   "cell_type": "markdown",
   "id": "a96a8243",
   "metadata": {},
   "source": [
    "## Create `train_model` function - Given a pretrained model, trains the model on the Birds Species Dataset and calculates the accuracy and loss over the test and validation sets"
   ]
  },
  {
   "cell_type": "code",
   "execution_count": 9,
   "id": "f7fb940f",
   "metadata": {
    "ExecuteTime": {
     "end_time": "2024-02-03T16:10:53.820517Z",
     "start_time": "2024-02-03T16:10:53.490938Z"
    },
    "execution": {
     "iopub.execute_input": "2024-02-07T13:43:07.437134Z",
     "iopub.status.busy": "2024-02-07T13:43:07.436850Z",
     "iopub.status.idle": "2024-02-07T13:43:07.445742Z",
     "shell.execute_reply": "2024-02-07T13:43:07.444842Z",
     "shell.execute_reply.started": "2024-02-07T13:43:07.437110Z"
    },
    "id": "e510f5b3e79f5093"
   },
   "outputs": [],
   "source": [
    "def train_model(model_name, pretrained_model, epochs=5):\n",
    "    \"\"\"\n",
    "    Inputs:\n",
    "        model_name - Name of the model you want to run. Is used to look up the class in \"model_dict\"\n",
    "    \"\"\"\n",
    "    tensorboard = TensorBoardLogger(\"q3_logs\", name=model_name)\n",
    "\n",
    "    early_stop_callback = EarlyStopping(\n",
    "            monitor='val_accuracy',    # Metric to monitor\n",
    "            min_delta=0.00,       # Minimum change to qualify as an improvement\n",
    "            patience=5,          # Number of epochs with no improvement after which training will be stopped\n",
    "            verbose=True,\n",
    "            mode='max'            # 'max' because we aim to maximize validation accuracy. Use 'min' for loss.\n",
    "        )\n",
    "    trainer = L.Trainer(\n",
    "        accelerator=\"auto\",\n",
    "        devices=1,\n",
    "        max_epochs=epochs,\n",
    "        logger=tensorboard,\n",
    "        callbacks=[ModelCheckpoint(dirpath=\"checkpoints/\", save_top_k=1, monitor=\"val_loss\"),\n",
    "                  early_stop_callback]\n",
    "    )\n",
    "\n",
    "    L.seed_everything(42)  # To be reproducable\n",
    "    model = BackBoneModule(backbone_module=pretrained_model, num_classes=525)\n",
    "    trainer.fit(model, train_loader, val_loader)\n",
    "\n",
    "    # Test best model on validation and test set\n",
    "    val_result = trainer.test(model, dataloaders=val_loader, verbose=False)\n",
    "    test_result = trainer.test(model, dataloaders=test_loader, verbose=False)\n",
    "\n",
    "    return model, val_result[0], test_result[0]"
   ]
  },
  {
   "cell_type": "markdown",
   "id": "73e9cbd8",
   "metadata": {},
   "source": [
    "## Iterate over the pretrained models - Run `train_model` on each of them"
   ]
  },
  {
   "cell_type": "code",
   "execution_count": 10,
   "id": "6592d57b",
   "metadata": {
    "ExecuteTime": {
     "end_time": "2024-02-03T16:13:12.183452Z",
     "start_time": "2024-02-03T16:11:00.243585Z"
    },
    "colab": {
     "base_uri": "https://localhost:8080/",
     "height": 1000,
     "referenced_widgets": [
      "72567a5fcac94b7fbef83a0136f19f28",
      "dd87ac618fad42b496980df6f98fb292",
      "c513c5d5f11f4bf8b57eb38fc6aa1d2c",
      "aa0b03c8e9464959b8aa42b1078608d1",
      "3979061709e24221bd0805849ee27ef7",
      "b402e12130c9423ea21ee5787ce90b86",
      "428b1fcb460a48d98922d7b67dfc0f3a",
      "44fce0a7914d48aaa327114a48234e3a",
      "7b62cbaa847f475e9bf864f0c286c044",
      "f277a8b57b3a403fb507fa3e8f719a5e",
      "443d80d3e14144048ca2f0af4417d0db",
      "d2353ab404c84c2da0700d5dd6ed9ac0",
      "df4186b377ea498982878308019636f8",
      "dc14edd3151947bc857ec231105a912e",
      "1d5d2045b98c481d8da7cc9de097d22f",
      "1379739fe80d492bbfa0cb95ae1f72bd",
      "ab99c5e851ae48469300b1bdcfcc269e",
      "361fd272d246457cbf101ce5e2b9fa21",
      "33e3175a9bd24bdaa1475ef4d29e4303",
      "7b2ccbc491bd4779b7511704735f4432",
      "14544b6674ff452286baa4a3199d6c26",
      "f8e70cbc511043cea037ffe3f4aa8103",
      "9d5a2c5a68d641f2a3c4413352a9867a",
      "12b2692c2c0e44b88795a954e8ad287b",
      "43e1cb119bba4f2da248eb7517dedbf7",
      "f08962ea73224eb395117bfe8d63d1c0",
      "6b8e5a108a1b49d1a226c27c1d691725",
      "6e417653136e425db991cefc9dfbe2ba",
      "31b4b8f8457a4ddaad3cb1f9058ca811",
      "b281ebf1d7a04ebdb71fbd53d4b271b9",
      "40b6ffddf5ab4106ae20cfbecd273f65",
      "f7219b19a7894ca298b7fa349ecb98ae",
      "f5a6833fd2d241159780e6fc6b517a6f",
      "14df8312907b4673b10e8673c54b8864",
      "40881439aeb0487ba4b6a4c73052557c",
      "c5c6bc912acc4d609f1bf44b6ac5f4d3",
      "53848f6635d648afaecd17c4bc9fa2f1",
      "51a01ebc9f6e4b52bfe57c6c7ce762d7",
      "1b6449f95dff4059b7b46051d25666c2",
      "c849b1c521c54fa8a190ba5025c202ee",
      "c9aa227eba5c4acd986fa96d0fbac163",
      "b4161b4e764c4b3c8d6181d169296786",
      "923b52d9c5134445aceec9f95e263cac",
      "986de77ee0574e3ba9070f46dedf5681",
      "a5d10c67ebd6432bbe64614602dfa271",
      "05db45432d54462b8f4a37e47b50df8b",
      "29b40dc7f6bc4761a3e4623b5e7534b2",
      "af5d36cc02ef4df2a9f830a27e0a85b9",
      "4a2572727bc94f948f4b6525aa132392",
      "e78535d5c34e4d94a73025e488092df3",
      "f0cecca781cc4165acb74ce5861881ea",
      "c7baf9ad91a44cc6a26bf27791414f43",
      "cd50160a68dd4cb0a138393d3f205916",
      "08c49bb3171b4446ad379839ad5a7f6c",
      "c5ef617b478141f9acd41fc82c20a666",
      "03309bcb83634288865ab5c9fc7b9b72",
      "f9f084c5d0ec4eb68911087548b59181",
      "fa74e0317810412da42eb3e0039a1570",
      "afa28bbe9053479192e663324104ffec",
      "f24f4c7b4ffc4b34a92564a54d4aba46",
      "ffbc9932bf8748148e8cc2590dbc5d3b",
      "2cf1d16b1bcd4936984488d35752caa6",
      "1714e38e28384e83862e6ea5612ce8b5",
      "29882321e2e04d84abca1558cbf1b254",
      "2da31ad6729747cda9ef24392170638e",
      "e6a3e6bd8c6b4ba1a042deafe870b1cb",
      "7e68fc0a6a72458f85813fe7a29d32b4",
      "fc691d194cb8471f9a14fe0f32b9577b",
      "26448ceae02240d3b5c9b497fca358f8",
      "0d23349fd1d44da4917af8889df913ba",
      "5078379f27754ce997576194847fe467",
      "e322de5d56e3485397bd2413f471def8",
      "e5c351baba264c8386a651024ed81055",
      "dd4618efc5ab4401a64497162003cc92",
      "ef45b6401bd3494ba48ae1472793d31a",
      "6764160a4a384630b47556366a5f7b34",
      "f5b3e926e6cc45458ad23c3cf463acec",
      "9cbfa9479ff844e8a3c1b7f58b7766f7",
      "c0771b5220d54decb029c724dc72d0cc",
      "6e471ffe065a4db78978e77554241010",
      "a6cf3910fc5f4ad2ad25d062fd227af1",
      "035380be49ca441987e4f18350b5f60a",
      "9e5fcdad7d79445b9986638b5ad6cff1",
      "34986805dd454a76948420760302bb39",
      "f60a21eece6f49f49a5e2bfed0e86603",
      "aa572af61c424a1aacbd24dad4ef68e8",
      "8ad090dcba7746c787779fe76607133f",
      "fbc1928411d34aae9d3ff6843c1300f1",
      "a38d686891344361bffd5d817f1e5aa6",
      "2d1f11541c354d8e96e2e6f1a6f1df00",
      "8fe665056f9d478a991e4324a1075fe0",
      "2040ce5066034a1ba9d30fe34a4bf19a",
      "9d7144edf3844cfe9fbd46b3db1df7a1",
      "86c0b37443184734acc68cad924e0d91",
      "3c9d438d118d4cd7a981113330ecd159",
      "dedeb64257b643a6b45084d1c0256910",
      "007852721096434c877c425b1ef52551",
      "90ad10e0d2174165869beee28472a87e",
      "cbd34d981f4b474bba6c0b7fdd9c0d5e",
      "d20a56bb5f2848a9ad9a9aaf1d5fa728",
      "175f8c872d6e4063ad105e32b7e28ebc",
      "5b8b41aef43e47ecbbf89129e39bcbdf",
      "1b8d64da57d34bb1800057c9c6d8a3b5",
      "0ffdb48f95cb44fcb15fe7eacdfedef2",
      "65d684bd19d3474caa857a0eb6104196",
      "814904d8580b409da8640754be613eae",
      "0c40d8bc8b454453a70e6bf1dff9b58a",
      "41b725d0be084db18efe385a93a91415",
      "1c4e8e97e3824dd88cb854641df78ffe",
      "1a1403d4d9334783a52fe0fc1c8cddf2",
      "af63b40dab06458fafc4f03e0ada2632",
      "deb1624b668549e9883f1718e69a1f4f",
      "905deddc21794931910ae7158d910cfd",
      "ab9e213453074cb488aed059777304de",
      "bec39cbd1d914033ae46e725189faba9",
      "c7430e45d8e14c9fbd72ff62395983c5",
      "fdf4987a19b34911b44ae9ac80d7b785",
      "7d6c32214d5144318dd86502de42a83c",
      "a39efc446c9a455ea694c2a1ceb2990f",
      "5094bac9c2be4c3fa3f60d2fe98f16c4",
      "c3174de8964b4cb68cb5c9b1feafa5f3",
      "f0740927a6e74bf99006d0c925e7386e",
      "e3832db4367945d69880428776506267",
      "96b827fbe8d34b5e81a700eee7fd970e",
      "3a96f0411bc6480f80a86ceaecb903df",
      "cbc423ad7e7e492a964e40c44ba03b05",
      "ce2c6fc336ba4e03b86f94e9a18825e4",
      "89469b8df39f4bd28ded44dac5a8f3a2",
      "12c6b10ff71d4392a0aa9c68b59294d5",
      "746d9ad29a024f5bba69711183147eeb",
      "993222262b6447489966838e54d94196",
      "19f5ee607c394720bb258522b9b186bb",
      "8347a899ba6b4e1397e831180b86e0d5",
      "b591b7339ed343beb6016e711ae706b3",
      "69a0c6e36f884cd4b8d5e0beaf9c23a4",
      "29ea541690a943fabd80332fd2aad620",
      "e4f5d63a66f842a68225813aca5115da",
      "52c00d5ec2de47dfb6593bf8c42e43e8",
      "220a17cd62f0476884c87f7d88d32e83",
      "8d290ea94c934bd58a32e1bf05fd3c3e",
      "fd7dd0947faf405689cbdf436580051f",
      "e004e34abe9649e79cb546a500c8a520",
      "3abb7e5ba3f541eb94793aefbe774063",
      "f99d4dfde8e64155941522af45448f2e",
      "73192aae8ff0458b90986329a49d8259",
      "c060d2c2d471422f843a7f1039949363",
      "b1d229cdb6134780becfb9d21be9fdf2",
      "635f5e8ffd6249fea2f193a08440bdf5",
      "2f6f157a002d4c20891ab1f83c37c11a",
      "ecd2ecb8f09c4d0bb85c3ac495dc779a",
      "f0920f381680485cb2685faff91fa8d2",
      "82fa99cbe82e43a69d46a954d4f7251d",
      "ea4cfba4e8f94ecca5cbfa77f043c0da",
      "481dcfcacae6416daee462959fd2b208",
      "6cbaa34092de43a4ba3d81340ec14570",
      "7c9682eda7464f63b7135a96dfc317af",
      "8d72f427feeb4f289fd1e1a5fd1af2bc",
      "f69163d6b571470f81a34e15828caf95",
      "ab4601c2fcc54cfda1d085e8d16bce15",
      "d3af05b96fc9408a84942a2643962346",
      "07bc7a3186794001be7b6ab3c6d1e628",
      "e0772159335e4bf9ad782d70bda1da7f",
      "e387d7cdfcc34e31ad8f0b8fb18a2edb",
      "83f2eea970c343049f22c046e52c9b1a",
      "45c5d00552734e83b702ee6d809a795c",
      "b81f8663335242a0b4e28fbb3b119fdf",
      "29061d6ccee54071aeec4840fec9e30c",
      "0d2012269e9347fead6b5534244cdf86",
      "2638578e772f41a29417f018e3e14391",
      "3382b3b4c16042dbbea3d0397908e804",
      "64433f82f3b441f497bc1d5bb751533e",
      "9e21e3fa37f947b780cbd87e28c0c0e6",
      "f6f98bab34e04a0ea758bd6c0e3c6463",
      "2225395b309d40bdbd33b2b6c880020b",
      "6f725f56d7c04c148913cc9c952d82c6",
      "cdc14a4d9e1b4097886516393d7501c9",
      "829f04785adc492d8115a318759e117e",
      "e29bb0eae52c49168f751ce908af3fa9",
      "4b645632651d47d19cb7cf327bed4fcd",
      "d258c53e4f084dbbace1238d972aa98d",
      "3481e25bc875420084898a08e3c278b4",
      "1db02e6f030744d2b7845a5f54f4b5e3",
      "346590f899c748918c876f01f7913c2e",
      "5d2b75a294ed4402a4d68845720b5a30",
      "8fb4b1b55d1f4f7786548a5c3e6ff03e",
      "447cc56ba48441a1aefbdf7e01b61c95",
      "e6a1a98b21c9452782fa18761416f249",
      "57aa8dc9f36b40b9a86bb9312c22b643",
      "a9065032ce73496ca3afb65bf402acb1",
      "7e465ba493a64e75b3559bac4076f26c",
      "934600b97eb049078bae77305e036310",
      "53f9e78a81fc44a4bf9536c40269aa87",
      "d7990bd372c043e6b5cd9fb5057af74a",
      "690358ff8cda43a5a7a80cf385c7a5d8",
      "5697f98d78394616885aa950443774af",
      "84cd0e81aa49434bad5f03bface16e5d",
      "4a83b45b2b3541b78d1405e9c2bbbacf",
      "fff872a60e7b4d349a83f9a15e19afd2",
      "3c95e8b35b1b409c9260160a9897fb2a",
      "ada18e6a50b447c09ea3468443115b1b",
      "9d31a3378b574ce2957cc74c73fd9981",
      "f3915f13eaca4e2da6651ea445177fe5",
      "bbaa6e4bbf6b42ffb1585050a9580795",
      "1835aa2b2d5647f98130896a3fd69fb7",
      "9e8977a7507e4322a7087dc17d19f012",
      "e0dc6d189ac74f1695e978f77a40a3d3",
      "5032fd7578ac485787cf485296ea7bd2",
      "83b0c6e823a54dba9d7f3e415b767ccf",
      "fbf5362234644e1092c2e0490ef718ce",
      "f77d1859c3db4e19a46e74e5d81649ac",
      "9b68d4b30e5349a39a51545908115be5",
      "af710b31361f41e9993dc62c7f263d16",
      "787c1b188fee44daaf891ae1be49e2bd",
      "2c4a72f4ee3c45688f8498ef089f4689",
      "4ae6364328fd48df8d3b1a3af66826a7",
      "b7ca992bdbb84773b970f8a2fc7fba38",
      "e948f07f946341f8b70b2498711c3c66",
      "e370c290bd4f47fab660f7604eb71634",
      "6e0c463f5aba4e7cbea0971e2e753f59",
      "74509b390b2941d78dab793309aeca45",
      "b1366aa1b6c44ae1877fc9a26f0e75b4",
      "c076d37b4132417c888fcd7bd3337b07",
      "ef505a60ff684f269530ce72ec50649d",
      "192ce9cdbf6648228b8ac7ef75d12e3d",
      "ad8c1ea3203040d3a97ebe1f7d6f20f9",
      "ef924ac5d6ac4b84936bb3921da7ce12",
      "2d7867a95e474339b2850bc9cfadda0c",
      "7d3a57b916f247e5aab000dd10938923",
      "d33663c1690b463dadd4da230be0aa0b",
      "a990e790c62d4b2eb13585b0b9194117",
      "9fd7c03156984812a4ad6b499387dd32",
      "66b94f58b0bf444d8c40e6a3634b91f2",
      "ddd27e4c175b4576ba9b53a1c9f8b403",
      "be17de6c2e1f4fb8a62300c95dde56be",
      "5b7cb9155629451fb6ac7e937454e4f0",
      "26803cda60a0467c85e227c1eb4e123e",
      "b93166b433ae497bb19f4b1f970674e5",
      "5d133e8842e74ecba632af81f8c71dad",
      "dd767a40d2fc4c00bb8d3bad47eabf15",
      "88ce86af776a49d9a013063029d25700",
      "991f66c79c524d2798665b8973113ae9",
      "9635e234d02749228b554ea525b01634"
     ]
    },
    "execution": {
     "iopub.execute_input": "2024-02-07T13:43:07.447610Z",
     "iopub.status.busy": "2024-02-07T13:43:07.447264Z",
     "iopub.status.idle": "2024-02-07T17:50:37.415902Z",
     "shell.execute_reply": "2024-02-07T17:50:37.414865Z",
     "shell.execute_reply.started": "2024-02-07T13:43:07.447581Z"
    },
    "id": "97adb0497d340850",
    "outputId": "68fcc74d-9f3b-4dd8-b1de-68577713cc58"
   },
   "outputs": [
    {
     "name": "stdout",
     "output_type": "stream",
     "text": [
      "Training mobilenet\n"
     ]
    },
    {
     "name": "stderr",
     "output_type": "stream",
     "text": [
      "INFO: GPU available: True (cuda), used: True\n",
      "INFO: TPU available: False, using: 0 TPU cores\n",
      "INFO: IPU available: False, using: 0 IPUs\n",
      "INFO: HPU available: False, using: 0 HPUs\n",
      "INFO: Seed set to 42\n",
      "WARNING: Missing logger folder: q3_logs/mobilenet\n",
      "2024-02-07 13:43:10.693390: E external/local_xla/xla/stream_executor/cuda/cuda_dnn.cc:9261] Unable to register cuDNN factory: Attempting to register factory for plugin cuDNN when one has already been registered\n",
      "2024-02-07 13:43:10.693485: E external/local_xla/xla/stream_executor/cuda/cuda_fft.cc:607] Unable to register cuFFT factory: Attempting to register factory for plugin cuFFT when one has already been registered\n",
      "2024-02-07 13:43:10.853759: E external/local_xla/xla/stream_executor/cuda/cuda_blas.cc:1515] Unable to register cuBLAS factory: Attempting to register factory for plugin cuBLAS when one has already been registered\n",
      "INFO: LOCAL_RANK: 0 - CUDA_VISIBLE_DEVICES: [0,1]\n",
      "INFO: \n",
      "  | Name            | Type             | Params\n",
      "-----------------------------------------------------\n",
      "0 | criterion       | CrossEntropyLoss | 0     \n",
      "1 | backbone_module | MobileNetV2      | 2.9 M \n",
      "-----------------------------------------------------\n",
      "2.9 M     Trainable params\n",
      "0         Non-trainable params\n",
      "2.9 M     Total params\n",
      "11.586    Total estimated model params size (MB)\n"
     ]
    },
    {
     "data": {
      "application/vnd.jupyter.widget-view+json": {
       "model_id": "",
       "version_major": 2,
       "version_minor": 0
      },
      "text/plain": [
       "Sanity Checking: |          | 0/? [00:00<?, ?it/s]"
      ]
     },
     "metadata": {},
     "output_type": "display_data"
    },
    {
     "data": {
      "application/vnd.jupyter.widget-view+json": {
       "model_id": "d91c782d05f04dfd8dc0e30499e5f96c",
       "version_major": 2,
       "version_minor": 0
      },
      "text/plain": [
       "Training: |          | 0/? [00:00<?, ?it/s]"
      ]
     },
     "metadata": {},
     "output_type": "display_data"
    },
    {
     "data": {
      "application/vnd.jupyter.widget-view+json": {
       "model_id": "",
       "version_major": 2,
       "version_minor": 0
      },
      "text/plain": [
       "Validation: |          | 0/? [00:00<?, ?it/s]"
      ]
     },
     "metadata": {},
     "output_type": "display_data"
    },
    {
     "name": "stderr",
     "output_type": "stream",
     "text": [
      "INFO: Metric val_accuracy improved. New best score: 0.891\n"
     ]
    },
    {
     "data": {
      "application/vnd.jupyter.widget-view+json": {
       "model_id": "",
       "version_major": 2,
       "version_minor": 0
      },
      "text/plain": [
       "Validation: |          | 0/? [00:00<?, ?it/s]"
      ]
     },
     "metadata": {},
     "output_type": "display_data"
    },
    {
     "name": "stderr",
     "output_type": "stream",
     "text": [
      "INFO: Metric val_accuracy improved by 0.052 >= min_delta = 0.0. New best score: 0.942\n"
     ]
    },
    {
     "data": {
      "application/vnd.jupyter.widget-view+json": {
       "model_id": "",
       "version_major": 2,
       "version_minor": 0
      },
      "text/plain": [
       "Validation: |          | 0/? [00:00<?, ?it/s]"
      ]
     },
     "metadata": {},
     "output_type": "display_data"
    },
    {
     "name": "stderr",
     "output_type": "stream",
     "text": [
      "INFO: Metric val_accuracy improved by 0.012 >= min_delta = 0.0. New best score: 0.955\n"
     ]
    },
    {
     "data": {
      "application/vnd.jupyter.widget-view+json": {
       "model_id": "",
       "version_major": 2,
       "version_minor": 0
      },
      "text/plain": [
       "Validation: |          | 0/? [00:00<?, ?it/s]"
      ]
     },
     "metadata": {},
     "output_type": "display_data"
    },
    {
     "name": "stderr",
     "output_type": "stream",
     "text": [
      "INFO: Metric val_accuracy improved by 0.010 >= min_delta = 0.0. New best score: 0.964\n"
     ]
    },
    {
     "data": {
      "application/vnd.jupyter.widget-view+json": {
       "model_id": "",
       "version_major": 2,
       "version_minor": 0
      },
      "text/plain": [
       "Validation: |          | 0/? [00:00<?, ?it/s]"
      ]
     },
     "metadata": {},
     "output_type": "display_data"
    },
    {
     "name": "stderr",
     "output_type": "stream",
     "text": [
      "INFO: `Trainer.fit` stopped: `max_epochs=5` reached.\n",
      "INFO: LOCAL_RANK: 0 - CUDA_VISIBLE_DEVICES: [0,1]\n"
     ]
    },
    {
     "data": {
      "application/vnd.jupyter.widget-view+json": {
       "model_id": "13dc7800504241ab99a8a2b5ca93d8ae",
       "version_major": 2,
       "version_minor": 0
      },
      "text/plain": [
       "Testing: |          | 0/? [00:00<?, ?it/s]"
      ]
     },
     "metadata": {},
     "output_type": "display_data"
    },
    {
     "name": "stderr",
     "output_type": "stream",
     "text": [
      "INFO: LOCAL_RANK: 0 - CUDA_VISIBLE_DEVICES: [0,1]\n"
     ]
    },
    {
     "data": {
      "application/vnd.jupyter.widget-view+json": {
       "model_id": "c1443db744144f01aa8dba0be32d6f3b",
       "version_major": 2,
       "version_minor": 0
      },
      "text/plain": [
       "Testing: |          | 0/? [00:00<?, ?it/s]"
      ]
     },
     "metadata": {},
     "output_type": "display_data"
    },
    {
     "name": "stderr",
     "output_type": "stream",
     "text": [
      "INFO: GPU available: True (cuda), used: True\n",
      "INFO: TPU available: False, using: 0 TPU cores\n",
      "INFO: IPU available: False, using: 0 IPUs\n",
      "INFO: HPU available: False, using: 0 HPUs\n",
      "INFO: Seed set to 42\n",
      "WARNING: Missing logger folder: q3_logs/googlenet\n",
      "/opt/conda/lib/python3.10/site-packages/lightning/pytorch/callbacks/model_checkpoint.py:639: Checkpoint directory /kaggle/working/checkpoints exists and is not empty.\n",
      "INFO: LOCAL_RANK: 0 - CUDA_VISIBLE_DEVICES: [0,1]\n",
      "INFO: \n",
      "  | Name            | Type             | Params\n",
      "-----------------------------------------------------\n",
      "0 | criterion       | CrossEntropyLoss | 0     \n",
      "1 | backbone_module | GoogLeNet        | 6.1 M \n",
      "-----------------------------------------------------\n",
      "6.1 M     Trainable params\n",
      "0         Non-trainable params\n",
      "6.1 M     Total params\n",
      "24.552    Total estimated model params size (MB)\n"
     ]
    },
    {
     "name": "stdout",
     "output_type": "stream",
     "text": [
      "Results for mobilenet: \n",
      "\n",
      "\tValidation Results:\n",
      "\tAccuracy: 0.961904764175415, Loss: 0.14304926991462708\n",
      "\tTest Results:\n",
      "\tAccuracy: 0.9805713891983032, Loss: 0.0894027054309845\n",
      "Training googlenet\n"
     ]
    },
    {
     "data": {
      "application/vnd.jupyter.widget-view+json": {
       "model_id": "",
       "version_major": 2,
       "version_minor": 0
      },
      "text/plain": [
       "Sanity Checking: |          | 0/? [00:00<?, ?it/s]"
      ]
     },
     "metadata": {},
     "output_type": "display_data"
    },
    {
     "data": {
      "application/vnd.jupyter.widget-view+json": {
       "model_id": "476340f4c2234f448164e76e2348bb09",
       "version_major": 2,
       "version_minor": 0
      },
      "text/plain": [
       "Training: |          | 0/? [00:00<?, ?it/s]"
      ]
     },
     "metadata": {},
     "output_type": "display_data"
    },
    {
     "data": {
      "application/vnd.jupyter.widget-view+json": {
       "model_id": "",
       "version_major": 2,
       "version_minor": 0
      },
      "text/plain": [
       "Validation: |          | 0/? [00:00<?, ?it/s]"
      ]
     },
     "metadata": {},
     "output_type": "display_data"
    },
    {
     "name": "stderr",
     "output_type": "stream",
     "text": [
      "INFO: Metric val_accuracy improved. New best score: 0.835\n"
     ]
    },
    {
     "data": {
      "application/vnd.jupyter.widget-view+json": {
       "model_id": "",
       "version_major": 2,
       "version_minor": 0
      },
      "text/plain": [
       "Validation: |          | 0/? [00:00<?, ?it/s]"
      ]
     },
     "metadata": {},
     "output_type": "display_data"
    },
    {
     "name": "stderr",
     "output_type": "stream",
     "text": [
      "INFO: Metric val_accuracy improved by 0.085 >= min_delta = 0.0. New best score: 0.920\n"
     ]
    },
    {
     "data": {
      "application/vnd.jupyter.widget-view+json": {
       "model_id": "",
       "version_major": 2,
       "version_minor": 0
      },
      "text/plain": [
       "Validation: |          | 0/? [00:00<?, ?it/s]"
      ]
     },
     "metadata": {},
     "output_type": "display_data"
    },
    {
     "name": "stderr",
     "output_type": "stream",
     "text": [
      "INFO: Metric val_accuracy improved by 0.026 >= min_delta = 0.0. New best score: 0.946\n"
     ]
    },
    {
     "data": {
      "application/vnd.jupyter.widget-view+json": {
       "model_id": "",
       "version_major": 2,
       "version_minor": 0
      },
      "text/plain": [
       "Validation: |          | 0/? [00:00<?, ?it/s]"
      ]
     },
     "metadata": {},
     "output_type": "display_data"
    },
    {
     "name": "stderr",
     "output_type": "stream",
     "text": [
      "INFO: Metric val_accuracy improved by 0.006 >= min_delta = 0.0. New best score: 0.952\n"
     ]
    },
    {
     "data": {
      "application/vnd.jupyter.widget-view+json": {
       "model_id": "",
       "version_major": 2,
       "version_minor": 0
      },
      "text/plain": [
       "Validation: |          | 0/? [00:00<?, ?it/s]"
      ]
     },
     "metadata": {},
     "output_type": "display_data"
    },
    {
     "name": "stderr",
     "output_type": "stream",
     "text": [
      "INFO: Metric val_accuracy improved by 0.008 >= min_delta = 0.0. New best score: 0.961\n",
      "INFO: `Trainer.fit` stopped: `max_epochs=5` reached.\n",
      "INFO: LOCAL_RANK: 0 - CUDA_VISIBLE_DEVICES: [0,1]\n"
     ]
    },
    {
     "data": {
      "application/vnd.jupyter.widget-view+json": {
       "model_id": "512fe7fb49074cc18a249441c23e9a00",
       "version_major": 2,
       "version_minor": 0
      },
      "text/plain": [
       "Testing: |          | 0/? [00:00<?, ?it/s]"
      ]
     },
     "metadata": {},
     "output_type": "display_data"
    },
    {
     "name": "stderr",
     "output_type": "stream",
     "text": [
      "INFO: LOCAL_RANK: 0 - CUDA_VISIBLE_DEVICES: [0,1]\n"
     ]
    },
    {
     "data": {
      "application/vnd.jupyter.widget-view+json": {
       "model_id": "dc2cdfccb39a47c88b406f76646b3555",
       "version_major": 2,
       "version_minor": 0
      },
      "text/plain": [
       "Testing: |          | 0/? [00:00<?, ?it/s]"
      ]
     },
     "metadata": {},
     "output_type": "display_data"
    },
    {
     "name": "stderr",
     "output_type": "stream",
     "text": [
      "INFO: GPU available: True (cuda), used: True\n",
      "INFO: TPU available: False, using: 0 TPU cores\n",
      "INFO: IPU available: False, using: 0 IPUs\n",
      "INFO: HPU available: False, using: 0 HPUs\n",
      "INFO: Seed set to 42\n",
      "WARNING: Missing logger folder: q3_logs/resnet50\n",
      "INFO: LOCAL_RANK: 0 - CUDA_VISIBLE_DEVICES: [0,1]\n",
      "INFO: \n",
      "  | Name            | Type             | Params\n",
      "-----------------------------------------------------\n",
      "0 | criterion       | CrossEntropyLoss | 0     \n",
      "1 | backbone_module | ResNet           | 24.6 M\n",
      "-----------------------------------------------------\n",
      "24.6 M    Trainable params\n",
      "0         Non-trainable params\n",
      "24.6 M    Total params\n",
      "98.335    Total estimated model params size (MB)\n"
     ]
    },
    {
     "name": "stdout",
     "output_type": "stream",
     "text": [
      "Results for googlenet: \n",
      "\n",
      "\tValidation Results:\n",
      "\tAccuracy: 0.9607619047164917, Loss: 0.15616846084594727\n",
      "\tTest Results:\n",
      "\tAccuracy: 0.9801904559135437, Loss: 0.09945042431354523\n",
      "Training resnet50\n"
     ]
    },
    {
     "data": {
      "application/vnd.jupyter.widget-view+json": {
       "model_id": "",
       "version_major": 2,
       "version_minor": 0
      },
      "text/plain": [
       "Sanity Checking: |          | 0/? [00:00<?, ?it/s]"
      ]
     },
     "metadata": {},
     "output_type": "display_data"
    },
    {
     "data": {
      "application/vnd.jupyter.widget-view+json": {
       "model_id": "a00c34cef5364de7ad129861f123a2d1",
       "version_major": 2,
       "version_minor": 0
      },
      "text/plain": [
       "Training: |          | 0/? [00:00<?, ?it/s]"
      ]
     },
     "metadata": {},
     "output_type": "display_data"
    },
    {
     "data": {
      "application/vnd.jupyter.widget-view+json": {
       "model_id": "",
       "version_major": 2,
       "version_minor": 0
      },
      "text/plain": [
       "Validation: |          | 0/? [00:00<?, ?it/s]"
      ]
     },
     "metadata": {},
     "output_type": "display_data"
    },
    {
     "name": "stderr",
     "output_type": "stream",
     "text": [
      "INFO: Metric val_accuracy improved. New best score: 0.930\n"
     ]
    },
    {
     "data": {
      "application/vnd.jupyter.widget-view+json": {
       "model_id": "",
       "version_major": 2,
       "version_minor": 0
      },
      "text/plain": [
       "Validation: |          | 0/? [00:00<?, ?it/s]"
      ]
     },
     "metadata": {},
     "output_type": "display_data"
    },
    {
     "name": "stderr",
     "output_type": "stream",
     "text": [
      "INFO: Metric val_accuracy improved by 0.024 >= min_delta = 0.0. New best score: 0.954\n"
     ]
    },
    {
     "data": {
      "application/vnd.jupyter.widget-view+json": {
       "model_id": "",
       "version_major": 2,
       "version_minor": 0
      },
      "text/plain": [
       "Validation: |          | 0/? [00:00<?, ?it/s]"
      ]
     },
     "metadata": {},
     "output_type": "display_data"
    },
    {
     "data": {
      "application/vnd.jupyter.widget-view+json": {
       "model_id": "",
       "version_major": 2,
       "version_minor": 0
      },
      "text/plain": [
       "Validation: |          | 0/? [00:00<?, ?it/s]"
      ]
     },
     "metadata": {},
     "output_type": "display_data"
    },
    {
     "name": "stderr",
     "output_type": "stream",
     "text": [
      "INFO: Metric val_accuracy improved by 0.003 >= min_delta = 0.0. New best score: 0.957\n"
     ]
    },
    {
     "data": {
      "application/vnd.jupyter.widget-view+json": {
       "model_id": "",
       "version_major": 2,
       "version_minor": 0
      },
      "text/plain": [
       "Validation: |          | 0/? [00:00<?, ?it/s]"
      ]
     },
     "metadata": {},
     "output_type": "display_data"
    },
    {
     "name": "stderr",
     "output_type": "stream",
     "text": [
      "INFO: Metric val_accuracy improved by 0.008 >= min_delta = 0.0. New best score: 0.965\n",
      "INFO: `Trainer.fit` stopped: `max_epochs=5` reached.\n",
      "INFO: LOCAL_RANK: 0 - CUDA_VISIBLE_DEVICES: [0,1]\n"
     ]
    },
    {
     "data": {
      "application/vnd.jupyter.widget-view+json": {
       "model_id": "f57f929b40794845996ab0f1ea589af0",
       "version_major": 2,
       "version_minor": 0
      },
      "text/plain": [
       "Testing: |          | 0/? [00:00<?, ?it/s]"
      ]
     },
     "metadata": {},
     "output_type": "display_data"
    },
    {
     "name": "stderr",
     "output_type": "stream",
     "text": [
      "INFO: LOCAL_RANK: 0 - CUDA_VISIBLE_DEVICES: [0,1]\n"
     ]
    },
    {
     "data": {
      "application/vnd.jupyter.widget-view+json": {
       "model_id": "26d020653e49492a84a2193bdba35b3d",
       "version_major": 2,
       "version_minor": 0
      },
      "text/plain": [
       "Testing: |          | 0/? [00:00<?, ?it/s]"
      ]
     },
     "metadata": {},
     "output_type": "display_data"
    },
    {
     "name": "stderr",
     "output_type": "stream",
     "text": [
      "INFO: GPU available: True (cuda), used: True\n",
      "INFO: TPU available: False, using: 0 TPU cores\n",
      "INFO: IPU available: False, using: 0 IPUs\n",
      "INFO: HPU available: False, using: 0 HPUs\n",
      "INFO: Seed set to 42\n",
      "WARNING: Missing logger folder: q3_logs/vgg19\n"
     ]
    },
    {
     "name": "stdout",
     "output_type": "stream",
     "text": [
      "Results for resnet50: \n",
      "\n",
      "\tValidation Results:\n",
      "\tAccuracy: 0.9645714163780212, Loss: 0.13962461054325104\n",
      "\tTest Results:\n",
      "\tAccuracy: 0.9760000109672546, Loss: 0.0932987779378891\n",
      "Training vgg19\n"
     ]
    },
    {
     "name": "stderr",
     "output_type": "stream",
     "text": [
      "INFO: LOCAL_RANK: 0 - CUDA_VISIBLE_DEVICES: [0,1]\n",
      "INFO: \n",
      "  | Name            | Type             | Params\n",
      "-----------------------------------------------------\n",
      "0 | criterion       | CrossEntropyLoss | 0     \n",
      "1 | backbone_module | VGG              | 141 M \n",
      "-----------------------------------------------------\n",
      "141 M     Trainable params\n",
      "0         Non-trainable params\n",
      "141 M     Total params\n",
      "566.885   Total estimated model params size (MB)\n"
     ]
    },
    {
     "data": {
      "application/vnd.jupyter.widget-view+json": {
       "model_id": "",
       "version_major": 2,
       "version_minor": 0
      },
      "text/plain": [
       "Sanity Checking: |          | 0/? [00:00<?, ?it/s]"
      ]
     },
     "metadata": {},
     "output_type": "display_data"
    },
    {
     "data": {
      "application/vnd.jupyter.widget-view+json": {
       "model_id": "d17c54473b5e480abde829422e3e8ab0",
       "version_major": 2,
       "version_minor": 0
      },
      "text/plain": [
       "Training: |          | 0/? [00:00<?, ?it/s]"
      ]
     },
     "metadata": {},
     "output_type": "display_data"
    },
    {
     "data": {
      "application/vnd.jupyter.widget-view+json": {
       "model_id": "",
       "version_major": 2,
       "version_minor": 0
      },
      "text/plain": [
       "Validation: |          | 0/? [00:00<?, ?it/s]"
      ]
     },
     "metadata": {},
     "output_type": "display_data"
    },
    {
     "name": "stderr",
     "output_type": "stream",
     "text": [
      "INFO: Metric val_accuracy improved. New best score: 0.829\n"
     ]
    },
    {
     "data": {
      "application/vnd.jupyter.widget-view+json": {
       "model_id": "",
       "version_major": 2,
       "version_minor": 0
      },
      "text/plain": [
       "Validation: |          | 0/? [00:00<?, ?it/s]"
      ]
     },
     "metadata": {},
     "output_type": "display_data"
    },
    {
     "name": "stderr",
     "output_type": "stream",
     "text": [
      "INFO: Metric val_accuracy improved by 0.064 >= min_delta = 0.0. New best score: 0.892\n"
     ]
    },
    {
     "data": {
      "application/vnd.jupyter.widget-view+json": {
       "model_id": "",
       "version_major": 2,
       "version_minor": 0
      },
      "text/plain": [
       "Validation: |          | 0/? [00:00<?, ?it/s]"
      ]
     },
     "metadata": {},
     "output_type": "display_data"
    },
    {
     "name": "stderr",
     "output_type": "stream",
     "text": [
      "INFO: Metric val_accuracy improved by 0.029 >= min_delta = 0.0. New best score: 0.921\n"
     ]
    },
    {
     "data": {
      "application/vnd.jupyter.widget-view+json": {
       "model_id": "",
       "version_major": 2,
       "version_minor": 0
      },
      "text/plain": [
       "Validation: |          | 0/? [00:00<?, ?it/s]"
      ]
     },
     "metadata": {},
     "output_type": "display_data"
    },
    {
     "name": "stderr",
     "output_type": "stream",
     "text": [
      "INFO: Metric val_accuracy improved by 0.004 >= min_delta = 0.0. New best score: 0.925\n"
     ]
    },
    {
     "data": {
      "application/vnd.jupyter.widget-view+json": {
       "model_id": "",
       "version_major": 2,
       "version_minor": 0
      },
      "text/plain": [
       "Validation: |          | 0/? [00:00<?, ?it/s]"
      ]
     },
     "metadata": {},
     "output_type": "display_data"
    },
    {
     "name": "stderr",
     "output_type": "stream",
     "text": [
      "INFO: Metric val_accuracy improved by 0.010 >= min_delta = 0.0. New best score: 0.934\n",
      "INFO: `Trainer.fit` stopped: `max_epochs=5` reached.\n",
      "INFO: LOCAL_RANK: 0 - CUDA_VISIBLE_DEVICES: [0,1]\n"
     ]
    },
    {
     "data": {
      "application/vnd.jupyter.widget-view+json": {
       "model_id": "4914693273bc48bfa2400f6f728e0212",
       "version_major": 2,
       "version_minor": 0
      },
      "text/plain": [
       "Testing: |          | 0/? [00:00<?, ?it/s]"
      ]
     },
     "metadata": {},
     "output_type": "display_data"
    },
    {
     "name": "stderr",
     "output_type": "stream",
     "text": [
      "INFO: LOCAL_RANK: 0 - CUDA_VISIBLE_DEVICES: [0,1]\n"
     ]
    },
    {
     "data": {
      "application/vnd.jupyter.widget-view+json": {
       "model_id": "b6d0d4402fd249c5a6a21fb87a2cc988",
       "version_major": 2,
       "version_minor": 0
      },
      "text/plain": [
       "Testing: |          | 0/? [00:00<?, ?it/s]"
      ]
     },
     "metadata": {},
     "output_type": "display_data"
    },
    {
     "name": "stdout",
     "output_type": "stream",
     "text": [
      "Results for vgg19: \n",
      "\n",
      "\tValidation Results:\n",
      "\tAccuracy: 0.9344761967658997, Loss: 0.2460256963968277\n",
      "\tTest Results:\n",
      "\tAccuracy: 0.9577142596244812, Loss: 0.13696612417697906\n"
     ]
    }
   ],
   "source": [
    "post_trained_models = {}\n",
    "for model_name, pretrained_model in pretrained_models.items():\n",
    "    print(f\"Training {model_name}\")\n",
    "    model, val_result, test_result = train_model(model_name, pretrained_model, epochs=5)\n",
    "    post_trained_models[model_name] = model\n",
    "    print(f\"Results for {model_name}: \\n\")\n",
    "    print(f'\\tValidation Results:\\n\\tAccuracy: {val_result[\"test_accuracy\"]}, Loss: {val_result[\"test_loss\"]}')\n",
    "    print(f'\\tTest Results:\\n\\tAccuracy: {test_result[\"test_accuracy\"]}, Loss: {test_result[\"test_loss\"]}')"
   ]
  },
  {
   "cell_type": "markdown",
   "id": "49fc6b16",
   "metadata": {},
   "source": [
    "# Section D - Use one of the trained models as a feature extractor"
   ]
  },
  {
   "cell_type": "markdown",
   "id": "8b974265",
   "metadata": {
    "id": "561a8dfe803eb5d7"
   },
   "source": [
    "## Use MobileNet's last layer as a feature extractor for a Logistic Regression model"
   ]
  },
  {
   "cell_type": "code",
   "execution_count": 14,
   "id": "6416b307",
   "metadata": {
    "ExecuteTime": {
     "end_time": "2024-02-03T17:07:19.590331Z",
     "start_time": "2024-02-03T17:07:19.155223Z"
    },
    "execution": {
     "iopub.execute_input": "2024-02-07T17:58:22.571722Z",
     "iopub.status.busy": "2024-02-07T17:58:22.571005Z",
     "iopub.status.idle": "2024-02-07T17:58:22.594244Z",
     "shell.execute_reply": "2024-02-07T17:58:22.593332Z",
     "shell.execute_reply.started": "2024-02-07T17:58:22.571689Z"
    },
    "id": "284a161f7b8c9576"
   },
   "outputs": [],
   "source": [
    "model = post_trained_models['mobilenet']\n",
    "model.backbone_module.classifier = model.backbone_module.classifier[:-1]\n",
    "model = model.to(device)"
   ]
  },
  {
   "cell_type": "code",
   "execution_count": 15,
   "id": "32a040d0",
   "metadata": {
    "ExecuteTime": {
     "end_time": "2024-02-03T17:07:35.984295Z",
     "start_time": "2024-02-03T17:07:35.591450Z"
    },
    "execution": {
     "iopub.execute_input": "2024-02-07T17:58:24.686396Z",
     "iopub.status.busy": "2024-02-07T17:58:24.686071Z",
     "iopub.status.idle": "2024-02-07T17:58:24.692827Z",
     "shell.execute_reply": "2024-02-07T17:58:24.691689Z",
     "shell.execute_reply.started": "2024-02-07T17:58:24.686371Z"
    },
    "id": "8ea924c79a5199d4"
   },
   "outputs": [],
   "source": [
    "def extract_features(loader, model):\n",
    "    model.eval()\n",
    "    features = []\n",
    "    labels = []\n",
    "    with torch.no_grad():\n",
    "        for x, y in tqdm(loader):\n",
    "            x = x.to(device)\n",
    "            y = y.to(device)\n",
    "            feature = model(x)\n",
    "            features.append(feature)\n",
    "            labels.append(y)\n",
    "    return torch.cat(features).cpu().numpy(), torch.cat(labels).cpu().numpy()"
   ]
  },
  {
   "cell_type": "code",
   "execution_count": 16,
   "id": "5b54edc1",
   "metadata": {
    "ExecuteTime": {
     "end_time": "2024-02-03T17:22:35.147704Z",
     "start_time": "2024-02-03T17:07:54.112013Z"
    },
    "execution": {
     "iopub.execute_input": "2024-02-07T17:58:27.814450Z",
     "iopub.status.busy": "2024-02-07T17:58:27.814082Z",
     "iopub.status.idle": "2024-02-07T18:00:50.112458Z",
     "shell.execute_reply": "2024-02-07T18:00:50.111450Z",
     "shell.execute_reply.started": "2024-02-07T17:58:27.814415Z"
    },
    "id": "79ea3817f149394e",
    "outputId": "382088e2-07a6-4b0f-a7bd-151735e61c45"
   },
   "outputs": [
    {
     "name": "stderr",
     "output_type": "stream",
     "text": [
      "100%|██████████| 1323/1323 [02:13<00:00,  9.93it/s]\n",
      "100%|██████████| 42/42 [00:04<00:00,  9.69it/s]\n",
      "100%|██████████| 42/42 [00:04<00:00,  9.77it/s]\n"
     ]
    }
   ],
   "source": [
    "train_features, train_labels = extract_features(train_loader, model)\n",
    "test_features, test_labels = extract_features(test_loader, model)\n",
    "val_features, val_labels = extract_features(val_loader, model)"
   ]
  },
  {
   "cell_type": "markdown",
   "id": "03316fc4",
   "metadata": {},
   "source": [
    "## Train the LogisticRegression model"
   ]
  },
  {
   "cell_type": "code",
   "execution_count": 17,
   "id": "c12644fd",
   "metadata": {
    "ExecuteTime": {
     "end_time": "2024-02-03T17:28:11.802934Z",
     "start_time": "2024-02-03T17:22:36.260648Z"
    },
    "execution": {
     "iopub.execute_input": "2024-02-07T18:00:57.641859Z",
     "iopub.status.busy": "2024-02-07T18:00:57.641385Z",
     "iopub.status.idle": "2024-02-07T18:53:53.593930Z",
     "shell.execute_reply": "2024-02-07T18:53:53.592863Z",
     "shell.execute_reply.started": "2024-02-07T18:00:57.641819Z"
    },
    "id": "98d504156ed8a417",
    "outputId": "7d9a9997-e66f-4c1f-a28a-49766ba42272"
   },
   "outputs": [
    {
     "name": "stderr",
     "output_type": "stream",
     "text": [
      "/opt/conda/lib/python3.10/site-packages/sklearn/linear_model/_logistic.py:458: ConvergenceWarning: lbfgs failed to converge (status=1):\n",
      "STOP: TOTAL NO. of ITERATIONS REACHED LIMIT.\n",
      "\n",
      "Increase the number of iterations (max_iter) or scale the data as shown in:\n",
      "    https://scikit-learn.org/stable/modules/preprocessing.html\n",
      "Please also refer to the documentation for alternative solver options:\n",
      "    https://scikit-learn.org/stable/modules/linear_model.html#logistic-regression\n",
      "  n_iter_i = _check_optimize_result(\n"
     ]
    },
    {
     "data": {
      "text/html": [
       "<style>#sk-container-id-1 {color: black;background-color: white;}#sk-container-id-1 pre{padding: 0;}#sk-container-id-1 div.sk-toggleable {background-color: white;}#sk-container-id-1 label.sk-toggleable__label {cursor: pointer;display: block;width: 100%;margin-bottom: 0;padding: 0.3em;box-sizing: border-box;text-align: center;}#sk-container-id-1 label.sk-toggleable__label-arrow:before {content: \"▸\";float: left;margin-right: 0.25em;color: #696969;}#sk-container-id-1 label.sk-toggleable__label-arrow:hover:before {color: black;}#sk-container-id-1 div.sk-estimator:hover label.sk-toggleable__label-arrow:before {color: black;}#sk-container-id-1 div.sk-toggleable__content {max-height: 0;max-width: 0;overflow: hidden;text-align: left;background-color: #f0f8ff;}#sk-container-id-1 div.sk-toggleable__content pre {margin: 0.2em;color: black;border-radius: 0.25em;background-color: #f0f8ff;}#sk-container-id-1 input.sk-toggleable__control:checked~div.sk-toggleable__content {max-height: 200px;max-width: 100%;overflow: auto;}#sk-container-id-1 input.sk-toggleable__control:checked~label.sk-toggleable__label-arrow:before {content: \"▾\";}#sk-container-id-1 div.sk-estimator input.sk-toggleable__control:checked~label.sk-toggleable__label {background-color: #d4ebff;}#sk-container-id-1 div.sk-label input.sk-toggleable__control:checked~label.sk-toggleable__label {background-color: #d4ebff;}#sk-container-id-1 input.sk-hidden--visually {border: 0;clip: rect(1px 1px 1px 1px);clip: rect(1px, 1px, 1px, 1px);height: 1px;margin: -1px;overflow: hidden;padding: 0;position: absolute;width: 1px;}#sk-container-id-1 div.sk-estimator {font-family: monospace;background-color: #f0f8ff;border: 1px dotted black;border-radius: 0.25em;box-sizing: border-box;margin-bottom: 0.5em;}#sk-container-id-1 div.sk-estimator:hover {background-color: #d4ebff;}#sk-container-id-1 div.sk-parallel-item::after {content: \"\";width: 100%;border-bottom: 1px solid gray;flex-grow: 1;}#sk-container-id-1 div.sk-label:hover label.sk-toggleable__label {background-color: #d4ebff;}#sk-container-id-1 div.sk-serial::before {content: \"\";position: absolute;border-left: 1px solid gray;box-sizing: border-box;top: 0;bottom: 0;left: 50%;z-index: 0;}#sk-container-id-1 div.sk-serial {display: flex;flex-direction: column;align-items: center;background-color: white;padding-right: 0.2em;padding-left: 0.2em;position: relative;}#sk-container-id-1 div.sk-item {position: relative;z-index: 1;}#sk-container-id-1 div.sk-parallel {display: flex;align-items: stretch;justify-content: center;background-color: white;position: relative;}#sk-container-id-1 div.sk-item::before, #sk-container-id-1 div.sk-parallel-item::before {content: \"\";position: absolute;border-left: 1px solid gray;box-sizing: border-box;top: 0;bottom: 0;left: 50%;z-index: -1;}#sk-container-id-1 div.sk-parallel-item {display: flex;flex-direction: column;z-index: 1;position: relative;background-color: white;}#sk-container-id-1 div.sk-parallel-item:first-child::after {align-self: flex-end;width: 50%;}#sk-container-id-1 div.sk-parallel-item:last-child::after {align-self: flex-start;width: 50%;}#sk-container-id-1 div.sk-parallel-item:only-child::after {width: 0;}#sk-container-id-1 div.sk-dashed-wrapped {border: 1px dashed gray;margin: 0 0.4em 0.5em 0.4em;box-sizing: border-box;padding-bottom: 0.4em;background-color: white;}#sk-container-id-1 div.sk-label label {font-family: monospace;font-weight: bold;display: inline-block;line-height: 1.2em;}#sk-container-id-1 div.sk-label-container {text-align: center;}#sk-container-id-1 div.sk-container {/* jupyter's `normalize.less` sets `[hidden] { display: none; }` but bootstrap.min.css set `[hidden] { display: none !important; }` so we also need the `!important` here to be able to override the default hidden behavior on the sphinx rendered scikit-learn.org. See: https://github.com/scikit-learn/scikit-learn/issues/21755 */display: inline-block !important;position: relative;}#sk-container-id-1 div.sk-text-repr-fallback {display: none;}</style><div id=\"sk-container-id-1\" class=\"sk-top-container\"><div class=\"sk-text-repr-fallback\"><pre>LogisticRegression(max_iter=1000)</pre><b>In a Jupyter environment, please rerun this cell to show the HTML representation or trust the notebook. <br />On GitHub, the HTML representation is unable to render, please try loading this page with nbviewer.org.</b></div><div class=\"sk-container\" hidden><div class=\"sk-item\"><div class=\"sk-estimator sk-toggleable\"><input class=\"sk-toggleable__control sk-hidden--visually\" id=\"sk-estimator-id-1\" type=\"checkbox\" checked><label for=\"sk-estimator-id-1\" class=\"sk-toggleable__label sk-toggleable__label-arrow\">LogisticRegression</label><div class=\"sk-toggleable__content\"><pre>LogisticRegression(max_iter=1000)</pre></div></div></div></div></div>"
      ],
      "text/plain": [
       "LogisticRegression(max_iter=1000)"
      ]
     },
     "execution_count": 17,
     "metadata": {},
     "output_type": "execute_result"
    }
   ],
   "source": [
    "clf = LogisticRegression(max_iter=1000)\n",
    "clf.fit(train_features, train_labels)"
   ]
  },
  {
   "cell_type": "markdown",
   "id": "e584ed87",
   "metadata": {},
   "source": [
    "## Predict the labels of the train, validation and test sets and print the accuracy scores"
   ]
  },
  {
   "cell_type": "code",
   "execution_count": 18,
   "id": "c17de7f9",
   "metadata": {
    "ExecuteTime": {
     "end_time": "2024-02-03T17:28:12.228251Z",
     "start_time": "2024-02-03T17:28:11.800854Z"
    },
    "execution": {
     "iopub.execute_input": "2024-02-07T18:53:53.601381Z",
     "iopub.status.busy": "2024-02-07T18:53:53.596158Z",
     "iopub.status.idle": "2024-02-07T18:53:55.241763Z",
     "shell.execute_reply": "2024-02-07T18:53:55.240223Z",
     "shell.execute_reply.started": "2024-02-07T18:53:53.601327Z"
    },
    "id": "8e0706be55338d2b"
   },
   "outputs": [],
   "source": [
    "train_preds = clf.predict(train_features)\n",
    "test_preds = clf.predict(test_features)\n",
    "val_preds = clf.predict(val_features)"
   ]
  },
  {
   "cell_type": "code",
   "execution_count": 19,
   "id": "67e1c4ea",
   "metadata": {
    "ExecuteTime": {
     "end_time": "2024-02-03T17:28:12.245967Z",
     "start_time": "2024-02-03T17:28:12.240367Z"
    },
    "execution": {
     "iopub.execute_input": "2024-02-07T18:53:55.243813Z",
     "iopub.status.busy": "2024-02-07T18:53:55.243425Z",
     "iopub.status.idle": "2024-02-07T18:53:55.259397Z",
     "shell.execute_reply": "2024-02-07T18:53:55.258442Z",
     "shell.execute_reply.started": "2024-02-07T18:53:55.243777Z"
    },
    "id": "98e610f9194fc85b",
    "outputId": "5dac868b-9798-476e-af87-2f0fb5100a05"
   },
   "outputs": [
    {
     "name": "stdout",
     "output_type": "stream",
     "text": [
      "Train accuracy: 1.0\n",
      "Test accuracy: 0.9908571428571429\n",
      "Validation accuracy: 0.9706666666666667\n"
     ]
    }
   ],
   "source": [
    "print(f\"Train accuracy: {accuracy_score(train_labels, train_preds)}\")\n",
    "print(f\"Test accuracy: {accuracy_score(test_labels, test_preds)}\")\n",
    "print(f\"Validation accuracy: {accuracy_score(val_labels, val_preds)}\")"
   ]
  },
  {
   "cell_type": "code",
   "execution_count": null,
   "id": "0e6e8c2f",
   "metadata": {},
   "outputs": [],
   "source": []
  }
 ],
 "metadata": {
  "accelerator": "GPU",
  "colab": {
   "gpuType": "T4",
   "provenance": []
  },
  "kaggle": {
   "accelerator": "nvidiaTeslaT4",
   "dataSources": [
    {
     "datasetId": 534640,
     "sourceId": 5468571,
     "sourceType": "datasetVersion"
    }
   ],
   "dockerImageVersionId": 30648,
   "isGpuEnabled": true,
   "isInternetEnabled": true,
   "language": "python",
   "sourceType": "notebook"
  },
  "kernelspec": {
   "display_name": "Python 3 (ipykernel)",
   "language": "python",
   "name": "python3"
  },
  "language_info": {
   "codemirror_mode": {
    "name": "ipython",
    "version": 3
   },
   "file_extension": ".py",
   "mimetype": "text/x-python",
   "name": "python",
   "nbconvert_exporter": "python",
   "pygments_lexer": "ipython3",
   "version": "3.11.4"
  }
 },
 "nbformat": 4,
 "nbformat_minor": 5
}
